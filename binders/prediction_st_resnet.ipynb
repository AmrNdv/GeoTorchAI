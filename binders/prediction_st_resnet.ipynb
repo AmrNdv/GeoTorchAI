{
 "cells": [
  {
   "cell_type": "code",
   "execution_count": null,
   "id": "2cc3285c",
   "metadata": {},
   "outputs": [],
   "source": [
    "import os\n",
    "import time\n",
    "import numpy as np\n",
    "import torch\n",
    "from torch.utils.data import DataLoader\n",
    "from torch.utils.data.sampler import SubsetRandomSampler\n",
    "import torch.nn as nn\n",
    "from geotorch.models.grid import STResNet\n",
    "from geotorch.datasets.grid import BikeNYCDeepSTN"
   ]
  },
  {
   "cell_type": "code",
   "execution_count": null,
   "id": "b1a86cc8",
   "metadata": {},
   "outputs": [],
   "source": [
    "## Define parameters\n",
    "len_closeness = 3\n",
    "len_period = 4\n",
    "len_trend = 4\n",
    "nb_residual_unit = 4\n",
    "map_height, map_width = 21, 12\n",
    "nb_flow = 2\n",
    "nb_area = 81\n",
    "T = 24\n",
    "\n",
    "epoch_nums = 100\n",
    "learning_rate = 0.0002\n",
    "batch_size = 32\n",
    "validation_split = 0.1\n",
    "shuffle_dataset = False\n",
    "random_seed = int(time.time())\n",
    "params = {'batch_size': batch_size, 'shuffle': False}\n",
    "\n",
    "## make sure that PATH_TO_DATASET exists in the running directory\n",
    "PATH_TO_DATASET = \"data/deepstn\"\n",
    "MODEL_SAVE_PATH = \"model-stresnet\"\n",
    "os.makedirs(MODEL_SAVE_PATH, exist_ok=True)"
   ]
  },
  {
   "cell_type": "code",
   "execution_count": null,
   "id": "d2df3ba3",
   "metadata": {},
   "outputs": [],
   "source": [
    "## Load training and test dataset\n",
    "train_dataset = BikeNYCDeepSTN(root = PATH_TO_DATASET)\n",
    "test_dataset = BikeNYCDeepSTN(root = PATH_TO_DATASET, is_training_data = False)\n",
    "\n",
    "## get the min-max-difference of normalized data for future use in calculating actual losses\n",
    "min_max_diff = train_dataset.get_min_max_difference()"
   ]
  },
  {
   "cell_type": "code",
   "execution_count": null,
   "id": "21a6ae90",
   "metadata": {},
   "outputs": [],
   "source": [
    "## Initialize training and validation indices to split the dataset\n",
    "dataset_size = len(train_dataset)\n",
    "indices = list(range(dataset_size))\n",
    "split = int(np.floor(validation_split * dataset_size))\n",
    "if shuffle_dataset:\n",
    "    np.random.seed(random_seed)\n",
    "    np.random.shuffle(indices)\n",
    "train_indices, val_indices = indices[split:], indices[:split]"
   ]
  },
  {
   "cell_type": "code",
   "execution_count": null,
   "id": "ed9f880a",
   "metadata": {},
   "outputs": [],
   "source": [
    "## Define training and validation data sampler\n",
    "train_sampler = SubsetRandomSampler(train_indices)\n",
    "valid_sampler = SubsetRandomSampler(val_indices)\n",
    "\n",
    "## Define training and validation data loader\n",
    "train_loader = DataLoader(train_dataset, **params, sampler=train_sampler)\n",
    "val_loader = DataLoader(train_dataset, **params, sampler=valid_sampler)\n",
    "test_loader = DataLoader(test_dataset, batch_size=batch_size)"
   ]
  },
  {
   "cell_type": "code",
   "execution_count": null,
   "id": "ffde0d55",
   "metadata": {},
   "outputs": [],
   "source": [
    "## set device to CPU or GPU\n",
    "device = torch.device(\"cuda\" if torch.cuda.is_available() else \"cpu\")\n",
    "## Define Model\n",
    "model = STResNet((len_closeness, nb_flow, map_height, map_width),\n",
    "                (len_period, nb_flow, map_height, map_width),\n",
    "                (len_trend, nb_flow , map_height, map_width),\n",
    "                external_dim = None, nb_residual_unit = nb_residual_unit)\n",
    "## Define hyper-parameters\n",
    "loss_fn = nn.MSELoss()\n",
    "optimizer = torch.optim.Adam(model.parameters(), lr=learning_rate)\n",
    "model.to(device)\n",
    "loss_fn.to(device)"
   ]
  },
  {
   "cell_type": "code",
   "execution_count": null,
   "id": "f11c3959",
   "metadata": {},
   "outputs": [],
   "source": [
    "## Before starting training, define a method to calculate validation loss\n",
    "def get_validation_loss(model, data_loader, criterion, device):\n",
    "    model.eval()\n",
    "    mean_loss = []\n",
    "    for i, sample in enumerate(data_loader):\n",
    "        X_c = sample[\"x_closeness\"].type(torch.FloatTensor).to(device)\n",
    "        X_p = sample[\"x_period\"].type(torch.FloatTensor).to(device)\n",
    "        X_t = sample[\"x_trend\"].type(torch.FloatTensor).to(device)\n",
    "        Y_batch = sample[\"y_data\"].type(torch.FloatTensor).to(device)\n",
    "\n",
    "        outputs = model(X_c, X_p, X_t)\n",
    "        mse= criterion(outputs, Y_batch).item()\n",
    "        mean_loss.append(mse)\n",
    "\n",
    "    mean_loss = np.mean(mean_loss)\n",
    "    return mean_loss"
   ]
  },
  {
   "cell_type": "code",
   "execution_count": null,
   "id": "f3142852",
   "metadata": {},
   "outputs": [],
   "source": [
    "## Perform training and validation\n",
    "min_val_loss = None\n",
    "for e in range(epoch_nums):\n",
    "    for i, sample in enumerate(train_loader):\n",
    "        X_c = sample[\"x_closeness\"].type(torch.FloatTensor).to(device)\n",
    "        X_p = sample[\"x_period\"].type(torch.FloatTensor).to(device)\n",
    "        X_t = sample[\"x_trend\"].type(torch.FloatTensor).to(device)\n",
    "        Y_batch = sample[\"y_data\"].type(torch.FloatTensor).to(device)\n",
    "\n",
    "        # Forward pass\n",
    "        outputs = model(X_c, X_p, X_t)\n",
    "        loss = loss_fn(outputs, Y_batch)\n",
    "\n",
    "        # Backward and optimize\n",
    "        optimizer.zero_grad()\n",
    "        loss.backward()\n",
    "        optimizer.step()\n",
    "\n",
    "    print('Epoch [{}/{}], Training Loss: {:.4f}'.format(e + 1, epoch_nums, loss.item()))\n",
    "\n",
    "    ## Perform model validation after finishing each epoch training\n",
    "    val_loss = get_validation_loss(model, val_loader, loss_fn, device)\n",
    "    print('Mean validation loss:', val_loss)\n",
    "\n",
    "    if min_val_loss == None or val_loss < min_val_loss:\n",
    "        min_val_loss = val_loss\n",
    "        torch.save(model.state_dict(), MODEL_SAVE_PATH)\n",
    "        print('Best model saved!')"
   ]
  },
  {
   "cell_type": "code",
   "execution_count": null,
   "id": "5e412369",
   "metadata": {},
   "outputs": [],
   "source": [
    "## Before testing, Define a method to calculate three types of loss: MSE, MAE, RMSE\n",
    "def compute_errors(preds, y_true):\n",
    "    pred_mean = preds[:, 0:2]\n",
    "    diff = y_true - pred_mean\n",
    "\n",
    "    mse = np.mean(diff ** 2)\n",
    "    rmse = np.sqrt(mse)\n",
    "    mae = np.mean(np.abs(diff))\n",
    "\n",
    "    return mse, mae, rmse"
   ]
  },
  {
   "cell_type": "code",
   "execution_count": null,
   "id": "ca68eeda",
   "metadata": {},
   "outputs": [],
   "source": [
    "## Perform testing on the best model with test dataset\n",
    "model.load_state_dict(torch.load(MODEL_SAVE_PATH, map_location=lambda storage, loc: storage))\n",
    "\n",
    "rmse_list=[]\n",
    "mse_list=[]\n",
    "mae_list=[]\n",
    "for i, sample in enumerate(test_loader):\n",
    "    X_c = sample[\"x_closeness\"].type(torch.FloatTensor).to(device)\n",
    "    X_p = sample[\"x_period\"].type(torch.FloatTensor).to(device)\n",
    "    X_t = sample[\"x_trend\"].type(torch.FloatTensor).to(device)\n",
    "    Y_batch = sample[\"y_data\"].type(torch.FloatTensor).to(device)\n",
    "\n",
    "    outputs = model(X_c, X_p, X_t)\n",
    "    mse, mae, rmse = compute_errors(outputs.cpu().data.numpy(), Y_batch.cpu().data.numpy())\n",
    "\n",
    "    rmse_list.append(rmse)\n",
    "    mse_list.append(mse)\n",
    "    mae_list.append(mae)\n",
    "    \n",
    "rmse = np.mean(rmse_list)\n",
    "mse = np.mean(mse_list)\n",
    "mae = np.mean(mae_list)\n",
    "\n",
    "print('Test mse: %.6f mae: %.6f rmse (norm): %.6f, mae (real): %.6f, rmse (real): %.6f' % (mse, mae, rmse, mae * min_max_diff/2, rmse*min_max_diff/2))"
   ]
  }
 ],
 "metadata": {
  "kernelspec": {
   "display_name": "Python 3",
   "language": "python",
   "name": "python3"
  },
  "language_info": {
   "codemirror_mode": {
    "name": "ipython",
    "version": 3
   },
   "file_extension": ".py",
   "mimetype": "text/x-python",
   "name": "python",
   "nbconvert_exporter": "python",
   "pygments_lexer": "ipython3",
   "version": "3.7.3"
  }
 },
 "nbformat": 4,
 "nbformat_minor": 5
}
